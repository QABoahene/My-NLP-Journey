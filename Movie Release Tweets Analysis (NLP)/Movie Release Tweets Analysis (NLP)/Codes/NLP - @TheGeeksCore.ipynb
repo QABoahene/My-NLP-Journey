{
 "metadata": {
  "language_info": {
   "codemirror_mode": {
    "name": "ipython",
    "version": 3
   },
   "file_extension": ".py",
   "mimetype": "text/x-python",
   "name": "python",
   "nbconvert_exporter": "python",
   "pygments_lexer": "ipython3",
   "version": "3.7.3-final"
  },
  "orig_nbformat": 2,
  "kernelspec": {
   "name": "Python 3.7.3 64-bit ('anaconda3': virtualenv)",
   "display_name": "Python 3.7.3 64-bit ('anaconda3': virtualenv)",
   "metadata": {
    "interpreter": {
     "hash": "a546926453268da43487979b71a1c6ce1a74d4b447081a194f9081b9f23a024f"
    }
   }
  }
 },
 "nbformat": 4,
 "nbformat_minor": 2,
 "cells": [
  {
   "source": [
    "# Analysis of @TheGeeksCore tweets"
   ],
   "cell_type": "markdown",
   "metadata": {}
  },
  {
   "cell_type": "code",
   "execution_count": 1,
   "metadata": {},
   "outputs": [],
   "source": [
    "import tweepy\n",
    "import json\n",
    "import re\n",
    "import pandas as pd\n",
    "import matplotlib.pyplot as plt\n",
    "import time"
   ]
  },
  {
   "cell_type": "code",
   "execution_count": 2,
   "metadata": {},
   "outputs": [],
   "source": [
    "#Authorizing Tweepy to utilize API\n",
    "con_key = 'ex9taKKpQiIA7ySrb3xqpDrTp'\n",
    "con_sec = '0Kpv9isbRm1SmbFTQlK7N0YIs0Us0RAMzCli11NPdgttX9LDFm'\n",
    "acc_token = '324932965-RnS6OJyQclT28DuCZfI9gqr4uvrTJbtea1mYtqm5'\n",
    "acc_token_sec = 'BkXux2w50OhWpHRerbdFk1xMIBaJxqQdna4Ukma3eOC1Z'\n",
    "\n",
    "authorize = tweepy.OAuthHandler(con_key, con_sec)\n",
    "authorize.set_access_token(acc_token, acc_token_sec)\n",
    "api = tweepy.API(authorize, wait_on_rate_limit = True)"
   ]
  },
  {
   "cell_type": "code",
   "execution_count": 3,
   "metadata": {},
   "outputs": [],
   "source": [
    "#Searching specific account's tweet (@Thegeekscore)\n",
    "handle = 'thegeekscore'\n",
    "num_tweets = 3000\n",
    "\n",
    "try:\n",
    "    tweets = tweepy.Cursor(api.user_timeline, id = handle, tweet_mode = 'extended').items(num_tweets)\n",
    "    tweets_list = [[tweet.created_at, tweet.id_str, tweet.full_text, tweet.retweet_count, tweet.favorite_count] for tweet in tweets]\n",
    "    data = pd.DataFrame(tweets_list, columns = ['Date', 'ID', 'Tweet', 'Retweets', 'Likes'])\n",
    "\n",
    "except BaseException as e:\n",
    "    print('failed on status,', str(e))\n",
    "    time.sleep(3)"
   ]
  },
  {
   "cell_type": "code",
   "execution_count": 4,
   "metadata": {},
   "outputs": [
    {
     "output_type": "execute_result",
     "data": {
      "text/plain": [
       "                  Date                   ID  \\\n",
       "0  2020-10-18 14:18:59  1317832553093541888   \n",
       "1  2020-10-18 11:32:53  1317790751426826241   \n",
       "2  2020-10-16 21:22:59  1317214478870712322   \n",
       "3  2020-10-16 08:55:15  1317026307243462657   \n",
       "4  2020-10-16 08:51:01  1317025240300617729   \n",
       "5  2020-10-16 08:37:13  1317021770415824896   \n",
       "6  2020-10-16 08:36:39  1317021624533659648   \n",
       "7  2020-10-16 08:30:45  1317020141092298756   \n",
       "8  2020-10-16 08:28:27  1317019563570139136   \n",
       "9  2020-10-16 08:27:52  1317019416895361024   \n",
       "10 2020-10-16 08:26:36  1317019097603899393   \n",
       "11 2020-10-16 07:42:31  1317008005146214400   \n",
       "12 2020-10-15 09:11:26  1316667991321436161   \n",
       "13 2020-10-15 07:18:46  1316639637499244544   \n",
       "14 2020-10-14 20:42:37  1316479545554464768   \n",
       "15 2020-10-14 16:51:31  1316421390162104320   \n",
       "16 2020-10-14 16:21:16  1316413774535028738   \n",
       "17 2020-10-14 15:11:41  1316396263047340038   \n",
       "18 2020-10-14 14:08:31  1316380366287011840   \n",
       "19 2020-10-14 13:58:26  1316377829030928386   \n",
       "\n",
       "                                                Tweet  Retweets  Likes  \n",
       "0                                   @Deucalion_1 Sure         0      1  \n",
       "1                          @Deucalion_1 Just started.         0      1  \n",
       "2                             RT @sebriones97: Yes!!!         1      0  \n",
       "3   RT @charlieINTEL: PlayStation 5 UI https://t.c...      4516      0  \n",
       "4   RT @getFANDOM: Two legends come alive in new c...       139      0  \n",
       "5   RT @DCComics: New heroes. \\nNew villains. \\nNe...      1267      0  \n",
       "6   I’m such a sucker for space shows and anything...         2      7  \n",
       "7                  REMAIN KLINGON! #StarTrekDiscovery         0      0  \n",
       "8   Give me that sweet rusty, raspy Klingon tongue...         0      0  \n",
       "9                     My love 🥺🥺🥺🥺 #StarTrekDiscovery         0      0  \n",
       "10  THIS IS NOT A DRILL! THIS IS NOT A DRILL!!! ST...         8      5  \n",
       "11  When Homelander almost seemed human when talki...         0      3  \n",
       "12  RT @getFANDOM: 'Dexter' revived at Showtime wi...       939      0  \n",
       "13  RT @NXOnNetflix: dad left me on the moon https...       289      0  \n",
       "14  RT @RottenTomatoes: #Dexter is back! Michael C...      1331      0  \n",
       "15     IT IS COMIC BOOK DAY!! https://t.co/iUnr06f1Lc         3     11  \n",
       "16  RT @JackQuaid92: 🐤 Just a man and his canary t...       434      0  \n",
       "17  RT @NXOnNetflix: The confidence crew of Great ...       722      0  \n",
       "18          @duh_qid @One_Sheyi You should get on it.         0      0  \n",
       "19                       @One_Sheyi Lovecraft Country         0      0  "
      ],
      "text/html": "<div>\n<style scoped>\n    .dataframe tbody tr th:only-of-type {\n        vertical-align: middle;\n    }\n\n    .dataframe tbody tr th {\n        vertical-align: top;\n    }\n\n    .dataframe thead th {\n        text-align: right;\n    }\n</style>\n<table border=\"1\" class=\"dataframe\">\n  <thead>\n    <tr style=\"text-align: right;\">\n      <th></th>\n      <th>Date</th>\n      <th>ID</th>\n      <th>Tweet</th>\n      <th>Retweets</th>\n      <th>Likes</th>\n    </tr>\n  </thead>\n  <tbody>\n    <tr>\n      <th>0</th>\n      <td>2020-10-18 14:18:59</td>\n      <td>1317832553093541888</td>\n      <td>@Deucalion_1 Sure</td>\n      <td>0</td>\n      <td>1</td>\n    </tr>\n    <tr>\n      <th>1</th>\n      <td>2020-10-18 11:32:53</td>\n      <td>1317790751426826241</td>\n      <td>@Deucalion_1 Just started.</td>\n      <td>0</td>\n      <td>1</td>\n    </tr>\n    <tr>\n      <th>2</th>\n      <td>2020-10-16 21:22:59</td>\n      <td>1317214478870712322</td>\n      <td>RT @sebriones97: Yes!!!</td>\n      <td>1</td>\n      <td>0</td>\n    </tr>\n    <tr>\n      <th>3</th>\n      <td>2020-10-16 08:55:15</td>\n      <td>1317026307243462657</td>\n      <td>RT @charlieINTEL: PlayStation 5 UI https://t.c...</td>\n      <td>4516</td>\n      <td>0</td>\n    </tr>\n    <tr>\n      <th>4</th>\n      <td>2020-10-16 08:51:01</td>\n      <td>1317025240300617729</td>\n      <td>RT @getFANDOM: Two legends come alive in new c...</td>\n      <td>139</td>\n      <td>0</td>\n    </tr>\n    <tr>\n      <th>5</th>\n      <td>2020-10-16 08:37:13</td>\n      <td>1317021770415824896</td>\n      <td>RT @DCComics: New heroes. \\nNew villains. \\nNe...</td>\n      <td>1267</td>\n      <td>0</td>\n    </tr>\n    <tr>\n      <th>6</th>\n      <td>2020-10-16 08:36:39</td>\n      <td>1317021624533659648</td>\n      <td>I’m such a sucker for space shows and anything...</td>\n      <td>2</td>\n      <td>7</td>\n    </tr>\n    <tr>\n      <th>7</th>\n      <td>2020-10-16 08:30:45</td>\n      <td>1317020141092298756</td>\n      <td>REMAIN KLINGON! #StarTrekDiscovery</td>\n      <td>0</td>\n      <td>0</td>\n    </tr>\n    <tr>\n      <th>8</th>\n      <td>2020-10-16 08:28:27</td>\n      <td>1317019563570139136</td>\n      <td>Give me that sweet rusty, raspy Klingon tongue...</td>\n      <td>0</td>\n      <td>0</td>\n    </tr>\n    <tr>\n      <th>9</th>\n      <td>2020-10-16 08:27:52</td>\n      <td>1317019416895361024</td>\n      <td>My love 🥺🥺🥺🥺 #StarTrekDiscovery</td>\n      <td>0</td>\n      <td>0</td>\n    </tr>\n    <tr>\n      <th>10</th>\n      <td>2020-10-16 08:26:36</td>\n      <td>1317019097603899393</td>\n      <td>THIS IS NOT A DRILL! THIS IS NOT A DRILL!!! ST...</td>\n      <td>8</td>\n      <td>5</td>\n    </tr>\n    <tr>\n      <th>11</th>\n      <td>2020-10-16 07:42:31</td>\n      <td>1317008005146214400</td>\n      <td>When Homelander almost seemed human when talki...</td>\n      <td>0</td>\n      <td>3</td>\n    </tr>\n    <tr>\n      <th>12</th>\n      <td>2020-10-15 09:11:26</td>\n      <td>1316667991321436161</td>\n      <td>RT @getFANDOM: 'Dexter' revived at Showtime wi...</td>\n      <td>939</td>\n      <td>0</td>\n    </tr>\n    <tr>\n      <th>13</th>\n      <td>2020-10-15 07:18:46</td>\n      <td>1316639637499244544</td>\n      <td>RT @NXOnNetflix: dad left me on the moon https...</td>\n      <td>289</td>\n      <td>0</td>\n    </tr>\n    <tr>\n      <th>14</th>\n      <td>2020-10-14 20:42:37</td>\n      <td>1316479545554464768</td>\n      <td>RT @RottenTomatoes: #Dexter is back! Michael C...</td>\n      <td>1331</td>\n      <td>0</td>\n    </tr>\n    <tr>\n      <th>15</th>\n      <td>2020-10-14 16:51:31</td>\n      <td>1316421390162104320</td>\n      <td>IT IS COMIC BOOK DAY!! https://t.co/iUnr06f1Lc</td>\n      <td>3</td>\n      <td>11</td>\n    </tr>\n    <tr>\n      <th>16</th>\n      <td>2020-10-14 16:21:16</td>\n      <td>1316413774535028738</td>\n      <td>RT @JackQuaid92: 🐤 Just a man and his canary t...</td>\n      <td>434</td>\n      <td>0</td>\n    </tr>\n    <tr>\n      <th>17</th>\n      <td>2020-10-14 15:11:41</td>\n      <td>1316396263047340038</td>\n      <td>RT @NXOnNetflix: The confidence crew of Great ...</td>\n      <td>722</td>\n      <td>0</td>\n    </tr>\n    <tr>\n      <th>18</th>\n      <td>2020-10-14 14:08:31</td>\n      <td>1316380366287011840</td>\n      <td>@duh_qid @One_Sheyi You should get on it.</td>\n      <td>0</td>\n      <td>0</td>\n    </tr>\n    <tr>\n      <th>19</th>\n      <td>2020-10-14 13:58:26</td>\n      <td>1316377829030928386</td>\n      <td>@One_Sheyi Lovecraft Country</td>\n      <td>0</td>\n      <td>0</td>\n    </tr>\n  </tbody>\n</table>\n</div>"
     },
     "metadata": {},
     "execution_count": 4
    }
   ],
   "source": [
    "data.head(20)"
   ]
  },
  {
   "cell_type": "code",
   "execution_count": null,
   "metadata": {},
   "outputs": [],
   "source": []
  }
 ]
}