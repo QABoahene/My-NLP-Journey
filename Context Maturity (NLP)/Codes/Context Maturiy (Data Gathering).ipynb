{
 "metadata": {
  "language_info": {
   "codemirror_mode": {
    "name": "ipython",
    "version": 3
   },
   "file_extension": ".py",
   "mimetype": "text/x-python",
   "name": "python",
   "nbconvert_exporter": "python",
   "pygments_lexer": "ipython3",
   "version": "3.7.3-final"
  },
  "orig_nbformat": 2,
  "kernelspec": {
   "name": "python3",
   "display_name": "Python 3"
  }
 },
 "nbformat": 4,
 "nbformat_minor": 2,
 "cells": [
  {
   "source": [
    "# Context Maturity (Data Gathering)\n",
    "---\n",
    "There is an API for [genius.com] so you can easily create a new *client API* and start retrieving any information you need.\n",
    "\n",
    "There is a package created called *lyricsgenius*. I installed it using the *pip install* function and then authenticated my access token to carry out this task.\n",
    "\n",
    "---"
   ],
   "cell_type": "markdown",
   "metadata": {}
  },
  {
   "cell_type": "code",
   "execution_count": 4,
   "metadata": {},
   "outputs": [],
   "source": [
    "# Importin Modules and Genius Credentials\n",
    "from genius_config import ACCESS_TOKEN \n",
    "import lyricsgenius"
   ]
  },
  {
   "cell_type": "code",
   "execution_count": 5,
   "metadata": {},
   "outputs": [],
   "source": [
    "# This function uses the Genius credentials to get lyrics for the songs of an artist\n",
    "def get_lyrics(ACCESS_TOKEN, songtitles, artist_name):\n",
    "    genius = lyricsgenius.Genius(ACCESS_TOKEN)\n",
    "\n",
    "    for songtitle in songtitles:\n",
    "        text_file = open(songtitle + '.txt', 'wt')\n",
    "        song = genius.search_song(songtitle, artist_name)\n",
    "        try:\n",
    "            songlyrics = song.lyrics\n",
    "        except:\n",
    "            print('No Lyrics Found')\n",
    "        n = text_file.write(songlyrics)\n",
    "    return text_file.close()"
   ]
  },
  {
   "cell_type": "code",
   "execution_count": 194,
   "metadata": {},
   "outputs": [],
   "source": [
    "# Create a directory for albums\n",
    "!mkdir 'translation through speakers'\n",
    "!mkdir 'the separation'\n",
    "!mkdir 'the definition'\n",
    "!mkdir 'the human condition'\n",
    "!mkdir 'glory sound prep'"
   ]
  },
  {
   "cell_type": "code",
   "execution_count": 195,
   "metadata": {},
   "outputs": [
    {
     "output_type": "stream",
     "name": "stdout",
     "text": [
      "Searching for \"life\" by Jon Bellion...\n",
      "Done.\n",
      "Searching for \"dont ask cuz i dont know\" by Jon Bellion...\n",
      "Done.\n",
      "Searching for \"the wonder years\" by Jon Bellion...\n",
      "Done.\n",
      "Searching for \"while you count sheep\" by Jon Bellion...\n",
      "Done.\n",
      "Searching for \"for the dreamers\" by Jon Bellion...\n",
      "Done.\n",
      "Searching for \"dead man walking\" by Jon Bellion...\n",
      "Done.\n",
      "Searching for \"wutup snow\" by Jon Bellion...\n",
      "Done.\n",
      "Searching for \"waves of loneliness\" by Jon Bellion...\n",
      "Done.\n",
      "Searching for \"paper planes\" by Jon Bellion...\n",
      "Done.\n",
      "Searching for \"timeless\" by Jon Bellion...\n",
      "Done.\n"
     ]
    }
   ],
   "source": [
    "translation_through_speakers = ['life', 'dont ask cuz i dont know', 'the wonder years', 'while you count sheep', 'for the dreamers', 'dead man walking', 'wutup snow', 'waves of loneliness', 'paper planes', 'timeless']\n",
    "\n",
    "songtitles = translation_through_speakers\n",
    "\n",
    "get_lyrics(ACCESS_TOKEN, songtitles, 'Jon Bellion')"
   ]
  },
  {
   "cell_type": "code",
   "execution_count": 197,
   "metadata": {},
   "outputs": [
    {
     "output_type": "stream",
     "name": "stdout",
     "text": [
      "Searching for \"eyes to the sky\" by Jon Bellion...\n",
      "Done.\n",
      "Searching for \"jim morrison\" by Jon Bellion...\n",
      "Done.\n",
      "Searching for \"halloween\" by Jon Bellion...\n",
      "Done.\n",
      "Searching for \"2 rocking chairs\" by Jon Bellion...\n",
      "Done.\n",
      "Searching for \"ungrateful eyes\" by Jon Bellion...\n",
      "Done.\n",
      "Searching for \"one more time\" by Jon Bellion...\n",
      "Done.\n",
      "Searching for \"to my future wife...\" by Jon Bellion...\n",
      "Done.\n",
      "Searching for \"a dedicated instrumental\" by Jon Bellion...\n",
      "Specified song does not contain lyrics. Rejecting.\n",
      "No Lyrics Found\n",
      "Searching for \"when the lions come\" by Jon Bellion...\n",
      "Done.\n",
      "Searching for \"newyorksoul\" by Jon Bellion...\n",
      "Done.\n",
      "Searching for \"superman, the gift and the curse\" by Jon Bellion...\n",
      "Done.\n",
      "Searching for \"kingdom come\" by Jon Bellion...\n",
      "Done.\n"
     ]
    }
   ],
   "source": [
    "the_separation = ['eyes to the sky', 'jim morrison', 'halloween', '2 rocking chairs', 'ungrateful eyes', 'one more time', 'to my future wife...', 'a dedicated instrumental', 'when the lions come', 'newyorksoul', 'superman, the gift and the curse', 'kingdom come']\n",
    "\n",
    "songtitles = the_separation\n",
    "\n",
    "get_lyrics(ACCESS_TOKEN, songtitles, 'Jon Bellion')"
   ]
  },
  {
   "cell_type": "code",
   "execution_count": 199,
   "metadata": {},
   "outputs": [
    {
     "output_type": "stream",
     "name": "stdout",
     "text": [
      "Searching for \"munny right\" by Jon Bellion...\n",
      "Done.\n",
      "Searching for \"carry your throne\" by Jon Bellion...\n",
      "Done.\n",
      "Searching for \"pre-occupied\" by Jon Bellion...\n",
      "Done.\n",
      "Searching for \"human\" by Jon Bellion...\n",
      "Done.\n",
      "Searching for \"run wild\" by Jon Bellion...\n",
      "Done.\n",
      "Searching for \"a haunted house\" by Jon Bellion...\n",
      "Done.\n",
      "Searching for \"jungle\" by Jon Bellion...\n",
      "Done.\n",
      "Searching for \"simple and sweet\" by Jon Bellion...\n",
      "Done.\n",
      "Searching for \"an immigrant\" by Jon Bellion...\n",
      "Done.\n",
      "Searching for \"ooh\" by Jon Bellion...\n",
      "Done.\n",
      "Searching for \"luxury\" by Jon Bellion...\n",
      "Done.\n"
     ]
    }
   ],
   "source": [
    "the_definition = ['munny right', 'carry your throne', 'pre-occupied', 'human', 'run wild', 'a haunted house', 'jungle', 'simple and sweet', 'an immigrant', 'ooh', 'luxury']\n",
    "\n",
    "songtitles = the_definition\n",
    "\n",
    "get_lyrics(ACCESS_TOKEN, songtitles, 'Jon Bellion')"
   ]
  },
  {
   "cell_type": "code",
   "execution_count": 201,
   "metadata": {},
   "outputs": [
    {
     "output_type": "stream",
     "name": "stdout",
     "text": [
      "Searching for \"he is the same\" by Jon Bellion...\n",
      "Done.\n",
      "Searching for \"80's films\" by Jon Bellion...\n",
      "Done.\n",
      "Searching for \"all time low\" by Jon Bellion...\n",
      "Done.\n",
      "Searching for \"new york soul (part ii)\" by Jon Bellion...\n",
      "Done.\n",
      "Searching for \"fasion\" by Jon Bellion...\n",
      "Done.\n",
      "Searching for \"maybe idk\" by Jon Bellion...\n",
      "Done.\n",
      "Searching for \"woke the fuck up\" by Jon Bellion...\n",
      "Done.\n",
      "Searching for \"overwhelming\" by Jon Bellion...\n",
      "Done.\n",
      "Searching for \"weight of the world\" by Jon Bellion...\n",
      "Done.\n",
      "Searching for \"the good in me\" by Jon Bellion...\n",
      "Done.\n",
      "Searching for \"morning in america\" by Jon Bellion...\n",
      "Done.\n",
      "Searching for \"irobot\" by Jon Bellion...\n",
      "Done.\n",
      "Searching for \"guillotine\" by Jon Bellion...\n",
      "Done.\n",
      "Searching for \"hand of god (outro)\" by Jon Bellion...\n",
      "Done.\n"
     ]
    }
   ],
   "source": [
    "the_human_condition = ['he is the same', \"80's films\", 'all time low', 'new york soul (part ii)', 'fasion', 'maybe idk', 'woke the fuck up', 'overwhelming', 'weight of the world', 'the good in me', 'morning in america', 'irobot', 'guillotine', 'hand of god (outro)']\n",
    "\n",
    "songtitles = the_human_condition\n",
    "\n",
    "get_lyrics(ACCESS_TOKEN, songtitles, 'Jon Bellion')"
   ]
  },
  {
   "cell_type": "code",
   "execution_count": 7,
   "metadata": {},
   "outputs": [
    {
     "output_type": "stream",
     "name": "stdout",
     "text": [
      "Searching for \"conversations with my wife\" by Jon Bellion...\n",
      "Done.\n",
      "Searching for \"jt\" by Jon Bellion...\n",
      "Done.\n",
      "Searching for \"let's begin\" by Jon Bellion...\n",
      "Done.\n",
      "Searching for \"stupid deep\" by Jon Bellion...\n",
      "Done.\n",
      "Searching for \"the internet\" by Jon Bellion...\n",
      "Done.\n",
      "Searching for \"blu\" by Jon Bellion...\n",
      "Done.\n",
      "Searching for \"adult swim\" by Jon Bellion...\n",
      "Done.\n",
      "Searching for \"couples retreat\" by Jon Bellion...\n",
      "Done.\n",
      "Searching for \"cautionary tales\" by Jon Bellion...\n",
      "Done.\n",
      "Searching for \"mah's joint\" by Jon Bellion...\n",
      "Done.\n"
     ]
    }
   ],
   "source": [
    "glory_sound_prep = ['conversations with my wife', 'jt', \"let's begin\", 'stupid deep', 'the internet', 'blu', 'adult swim', 'couples retreat', 'cautionary tales', \"mah's joint\"]\n",
    "\n",
    "songtitles = glory_sound_prep\n",
    "\n",
    "get_lyrics(ACCESS_TOKEN, songtitles, 'Jon Bellion')"
   ]
  }
 ]
}